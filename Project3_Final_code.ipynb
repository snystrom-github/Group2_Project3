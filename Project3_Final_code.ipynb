{
 "cells": [
  {
   "cell_type": "code",
   "execution_count": 12,
   "id": "2847e8ee-0abc-4d97-8b93-820608d834a3",
   "metadata": {},
   "outputs": [
    {
     "name": "stdout",
     "output_type": "stream",
     "text": [
      "Visualizations saved as HTML files. Open them in your browser to view.\n"
     ]
    },
    {
     "name": "stderr",
     "output_type": "stream",
     "text": [
      "C:\\Users\\Dalton Driver\\anaconda3\\Lib\\site-packages\\altair\\utils\\core.py:395: FutureWarning: the convert_dtype parameter is deprecated and will be removed in a future version.  Do ``ser.astype(object).apply()`` instead if you want ``convert_dtype=False``.\n",
      "  col = df[col_name].apply(to_list_if_array, convert_dtype=False)\n",
      "C:\\Users\\Dalton Driver\\anaconda3\\Lib\\site-packages\\altair\\utils\\core.py:395: FutureWarning: the convert_dtype parameter is deprecated and will be removed in a future version.  Do ``ser.astype(object).apply()`` instead if you want ``convert_dtype=False``.\n",
      "  col = df[col_name].apply(to_list_if_array, convert_dtype=False)\n",
      "C:\\Users\\Dalton Driver\\anaconda3\\Lib\\site-packages\\altair\\utils\\core.py:395: FutureWarning: the convert_dtype parameter is deprecated and will be removed in a future version.  Do ``ser.astype(object).apply()`` instead if you want ``convert_dtype=False``.\n",
      "  col = df[col_name].apply(to_list_if_array, convert_dtype=False)\n"
     ]
    }
   ],
   "source": [
    "import pandas as pd\n",
    "import altair as alt\n",
    "\n",
    "# Step 1: Load the cleaned dataset\n",
    "# Replace with the path to your cleaned CSV file\n",
    "cleaned_data_file = \"Crime_Reports_20250109.csv\"\n",
    "crime_data = pd.read_csv(cleaned_data_file)\n",
    "\n",
    "# Step 2: Data Preparation\n",
    "\n",
    "# Narrative 1: Crime Types by Location\n",
    "crime_by_location = crime_data.groupby(['Location Type', 'Highest Offense Description']).size().reset_index(name='Count')\n",
    "total_crimes_by_location = crime_data.groupby('Location Type').size().reset_index(name='Total Crimes')\n",
    "crime_by_location = crime_by_location.merge(total_crimes_by_location, on='Location Type')\n",
    "crime_by_location['Proportion'] = crime_by_location['Count'] / crime_by_location['Total Crimes']\n",
    "\n",
    "# Narrative 2: Clearance Rates by Offense and District\n",
    "# Clearance rates by offense\n",
    "clearance_by_offense = crime_data.groupby('Highest Offense Description').agg(\n",
    "    Total_Incidents=('Incident Number', 'size'),\n",
    "    Cleared_Incidents=('Clearance Status', lambda x: (x == 'C').sum())\n",
    ").reset_index()\n",
    "clearance_by_offense['Clearance Rate'] = (\n",
    "    clearance_by_offense['Cleared_Incidents'] / clearance_by_offense['Total_Incidents']\n",
    ") * 100\n",
    "\n",
    "# Clearance rates by district\n",
    "clearance_by_district = crime_data.groupby('Council District').agg(\n",
    "    Total_Incidents=('Incident Number', 'size'),\n",
    "    Cleared_Incidents=('Clearance Status', lambda x: (x == 'C').sum())\n",
    ").reset_index()\n",
    "clearance_by_district['Clearance Rate'] = (\n",
    "    clearance_by_district['Cleared_Incidents'] / clearance_by_district['Total_Incidents']\n",
    ") * 100\n",
    "\n",
    "# Narrative 3: Incident Concentrations by District\n",
    "incident_counts_by_district = crime_data.groupby('Council District').size().reset_index(name='Incident Count')\n",
    "\n",
    "# Step 3: Visualizations\n",
    "\n",
    "# Narrative 1: Crime Types by Location (Altair Bar Chart)\n",
    "crime_chart = alt.Chart(crime_by_location).mark_bar().encode(\n",
    "    x=alt.X('Location Type:N', sort='-y', title='Location Type'),\n",
    "    y=alt.Y('Count:Q', title='Crime Count'),\n",
    "    color='Highest Offense Description:N',\n",
    "    tooltip=['Location Type', 'Highest Offense Description', 'Count']\n",
    ").properties(\n",
    "    title='Crime Types by Location',\n",
    "    width=800,\n",
    "    height=400\n",
    ")\n",
    "\n",
    "# Narrative 2: Clearance Rates by Offense (Altair Bar Chart)\n",
    "top_offenses = clearance_by_offense.nlargest(10, 'Total_Incidents')\n",
    "clearance_chart = alt.Chart(top_offenses).mark_bar().encode(\n",
    "    x=alt.X('Highest Offense Description:N', sort='-y', title='Offense Type'),\n",
    "    y=alt.Y('Clearance Rate:Q', title='Clearance Rate (%)'),\n",
    "    tooltip=[\n",
    "        alt.Tooltip('Highest Offense Description:N', title='Offense Type'),\n",
    "        alt.Tooltip('Clearance Rate:Q', title='Clearance Rate (%)', format='.2f'),\n",
    "        alt.Tooltip('Total_Incidents:Q', title='Total Incidents')\n",
    "    ]\n",
    ").properties(\n",
    "    title='Clearance Rates by Offense Type (Top 10 Offenses)',\n",
    "    width=800,\n",
    "    height=400\n",
    ")\n",
    "\n",
    "# Narrative 3: Incident Concentrations by District (Altair Bar Chart)\n",
    "district_chart = alt.Chart(incident_counts_by_district).mark_bar().encode(\n",
    "    x=alt.X('Council District:N', sort='-y', title='Council District'),\n",
    "    y=alt.Y('Incident Count:Q', title='Incident Count'),\n",
    "    tooltip=['Council District', 'Incident Count']\n",
    ").properties(\n",
    "    title='Incident Concentrations by Council District',\n",
    "    width=800,\n",
    "    height=400\n",
    ")\n",
    "\n",
    "# Step 4: Display or Save Visualizations\n",
    "# Save the charts as HTML\n",
    "crime_chart.save('crime_types_by_location.html')\n",
    "clearance_chart.save('clearance_rates_by_offense.html')\n",
    "district_chart.save('incident_concentrations_by_district.html')\n",
    "\n",
    "print(\"Visualizations saved as HTML files. Open them in your browser to view.\")\n"
   ]
  },
  {
   "cell_type": "code",
   "execution_count": 13,
   "id": "21e646e0-6e79-4b1e-a3b2-b8ee0427508c",
   "metadata": {},
   "outputs": [
    {
     "name": "stdout",
     "output_type": "stream",
     "text": [
      "Visualization saved as 'crime_count_by_incident_dropdown.html'. Open this file in your browser to view.\n"
     ]
    },
    {
     "name": "stderr",
     "output_type": "stream",
     "text": [
      "C:\\Users\\Dalton Driver\\anaconda3\\Lib\\site-packages\\altair\\utils\\deprecation.py:65: AltairDeprecationWarning: 'add_selection' is deprecated. Use 'add_params' instead.\n",
      "  warnings.warn(message, AltairDeprecationWarning, stacklevel=1)\n",
      "C:\\Users\\Dalton Driver\\anaconda3\\Lib\\site-packages\\altair\\utils\\core.py:395: FutureWarning: the convert_dtype parameter is deprecated and will be removed in a future version.  Do ``ser.astype(object).apply()`` instead if you want ``convert_dtype=False``.\n",
      "  col = df[col_name].apply(to_list_if_array, convert_dtype=False)\n",
      "C:\\Users\\Dalton Driver\\anaconda3\\Lib\\site-packages\\altair\\utils\\core.py:395: FutureWarning: the convert_dtype parameter is deprecated and will be removed in a future version.  Do ``ser.astype(object).apply()`` instead if you want ``convert_dtype=False``.\n",
      "  col = df[col_name].apply(to_list_if_array, convert_dtype=False)\n"
     ]
    }
   ],
   "source": [
    "# Step 1: Load the cleaned dataset\n",
    "cleaned_data_file = \"Crime_Reports_20250109.csv\"  # Replace with your actual file path\n",
    "crime_data = pd.read_csv(cleaned_data_file)\n",
    "\n",
    "# Step 2: Prepare the data\n",
    "# Group by incident type and location\n",
    "crime_by_location = crime_data.groupby(['Location Type', 'Highest Offense Description']).size().reset_index(name='Count')\n",
    "\n",
    "# Step 3: Create a dropdown selection for incident type\n",
    "incident_dropdown = alt.binding_select(\n",
    "    options=list(crime_by_location['Highest Offense Description'].unique()),\n",
    "    name='Incident Type: '\n",
    ")\n",
    "incident_selection = alt.selection_point(\n",
    "    fields=['Highest Offense Description'],\n",
    "    bind=incident_dropdown,\n",
    "    value=list(crime_by_location['Highest Offense Description'].unique())[0]  # Default value must match the dropdown options\n",
    ")\n",
    "\n",
    "# Step 4: Filtered chart based on the selection\n",
    "dropdown_chart = alt.Chart(crime_by_location).mark_bar().encode(\n",
    "    x=alt.X('Location Type:N', sort='-y', title='Location Type'),\n",
    "    y=alt.Y('Count:Q', title='Crime Count'),\n",
    "    tooltip=['Location Type', 'Count', 'Highest Offense Description'],\n",
    "    color=alt.Color('Location Type:N', legend=None)\n",
    ").add_selection(\n",
    "    incident_selection\n",
    ").transform_filter(\n",
    "    incident_selection\n",
    ").properties(\n",
    "    title='Crime Count by Location Type for Selected Incident Type',\n",
    "    width=800,\n",
    "    height=400\n",
    ")\n",
    "\n",
    "# Step 5: Save or display the chart\n",
    "dropdown_chart.save('crime_count_by_incident_dropdown.html')\n",
    "print(\"Visualization saved as 'crime_count_by_incident_dropdown.html'. Open this file in your browser to view.\")\n"
   ]
  },
  {
   "cell_type": "code",
   "execution_count": null,
   "id": "f4febe63-45b1-4353-bdc6-825602e7c346",
   "metadata": {},
   "outputs": [],
   "source": []
  }
 ],
 "metadata": {
  "kernelspec": {
   "display_name": "Python 3 (ipykernel)",
   "language": "python",
   "name": "python3"
  },
  "language_info": {
   "codemirror_mode": {
    "name": "ipython",
    "version": 3
   },
   "file_extension": ".py",
   "mimetype": "text/x-python",
   "name": "python",
   "nbconvert_exporter": "python",
   "pygments_lexer": "ipython3",
   "version": "3.12.4"
  }
 },
 "nbformat": 4,
 "nbformat_minor": 5
}
