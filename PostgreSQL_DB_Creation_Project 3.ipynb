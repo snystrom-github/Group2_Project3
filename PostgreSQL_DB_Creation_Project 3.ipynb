{
 "cells": [
  {
   "cell_type": "code",
   "execution_count": null,
   "id": "ac01de2c-7635-4e6b-8df2-31d4fe71d1af",
   "metadata": {},
   "outputs": [
    {
     "name": "stdout",
     "output_type": "stream",
     "text": [
      "Connected to PostgreSQL successfully!\n"
     ]
    }
   ],
   "source": [
    "from sqlalchemy import create_engine\n",
    "from pathlib import Path\n",
    "import pandas as pd\n",
    "\n",
    "from sqlalchemy import create_engine\n",
    "\n",
    "# PostgreSQL connection details\n",
    "db_config = {\n",
    "    \"user\": \"postgres\",\n",
    "    \"password\": \"Dr%21vem%40N%21%2145\",  # Encoded password\n",
    "    \"host\": \"localhost\",\n",
    "    \"port\": \"5432\",\n",
    "    \"database\": \"Austin_Crime_2025\"\n",
    "}\n",
    "\n",
    "# Create the database engine\n",
    "engine_url = f\"postgresql://{db_config['user']}:{db_config['password']}@{db_config['host']}:{db_config['port']}/{db_config['database']}\"\n",
    "engine = create_engine(engine_url)\n",
    "\n",
    "# Test the connection\n",
    "try:\n",
    "    with engine.connect() as connection:\n",
    "        print(\"Connected to PostgreSQL successfully!\")\n",
    "except Exception as e:\n",
    "    print(f\"Error connecting to the database: {e}\")\n",
    "\n",
    "# Load the cleaned crime data (replace the file path with your actual file location)\n",
    "cleaned_data_file = \"Crime_Reports_20250109.csv\"  # Replace with the actual cleaned data file\n",
    "crime_data = pd.read_csv(cleaned_data_file)\n",
    "\n",
    "# Define table name\n",
    "table_name = \"crime_reports\"\n",
    "\n",
    "# Write data to PostgreSQL\n",
    "try:\n",
    "    crime_data.to_sql(table_name, engine, if_exists=\"replace\", index=False)\n",
    "    print(f\"Data successfully stored in the '{table_name}' table!\")\n",
    "except Exception as e:\n",
    "    print(f\"An error occurred: {e}\")\n"
   ]
  },
  {
   "cell_type": "code",
   "execution_count": null,
   "id": "3da0798a-0126-48f0-8fb4-d1ea831a2a38",
   "metadata": {},
   "outputs": [],
   "source": []
  }
 ],
 "metadata": {
  "kernelspec": {
   "display_name": "Python 3 (ipykernel)",
   "language": "python",
   "name": "python3"
  },
  "language_info": {
   "codemirror_mode": {
    "name": "ipython",
    "version": 3
   },
   "file_extension": ".py",
   "mimetype": "text/x-python",
   "name": "python",
   "nbconvert_exporter": "python",
   "pygments_lexer": "ipython3",
   "version": "3.12.4"
  }
 },
 "nbformat": 4,
 "nbformat_minor": 5
}
